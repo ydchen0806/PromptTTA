{
 "cells": [
  {
   "cell_type": "code",
   "execution_count": 1,
   "metadata": {},
   "outputs": [],
   "source": [
    "import h5py\n",
    "import cv2\n",
    "import matplotlib.pyplot as plt\n",
    "import numpy as np\n",
    "import os\n",
    "import pandas as pd"
   ]
  },
  {
   "cell_type": "code",
   "execution_count": 2,
   "metadata": {},
   "outputs": [
    {
     "name": "stdout",
     "output_type": "stream",
     "text": [
      "(125, 1250, 1250)\n",
      "uint64\n",
      "21350\n",
      "1\n"
     ]
    }
   ],
   "source": [
    "data_path = '/braindat/lab/chenyd/code_230508/wafer4/inference/2023-10-02--15-36-33_seg_3d_wafer26_data80/wafer26/affs_190000/seg.hdf'\n",
    "with h5py.File(data_path, 'r') as f:\n",
    "    data = f['main'][:]\n",
    "    print(data.shape)\n",
    "    print(data.dtype)\n",
    "    print(data.max())\n",
    "    print(data.min())"
   ]
  },
  {
   "cell_type": "code",
   "execution_count": 5,
   "metadata": {},
   "outputs": [],
   "source": [
    "def draw_fragments_3d(pred):\n",
    "    d,m,n = pred.shape\n",
    "    ids = np.unique(pred)\n",
    "    size = len(ids)\n",
    "    print(\"the neurons number of pred is %d\" % size)\n",
    "    color_pred = np.zeros([d, m, n, 3])\n",
    "    idx = np.searchsorted(ids, pred)\n",
    "    for i in range(3):\n",
    "        color_val = np.random.randint(0, 255, ids.shape)\n",
    "        if ids[0] == 0:\n",
    "            color_val[0] = 0\n",
    "        color_pred[:,:,:,i] = color_val[idx]\n",
    "    color_pred = color_pred\n",
    "    return color_pred"
   ]
  },
  {
   "cell_type": "code",
   "execution_count": 7,
   "metadata": {},
   "outputs": [
    {
     "name": "stdout",
     "output_type": "stream",
     "text": [
      "the neurons number of pred is 21350\n"
     ]
    }
   ],
   "source": [
    "seg = draw_fragments_3d(data)"
   ]
  },
  {
   "cell_type": "code",
   "execution_count": 10,
   "metadata": {},
   "outputs": [],
   "source": [
    "for i in range(len(seg)):\n",
    "    cv2.imwrite('/braindat/lab/chenyd/code_230508/wafer4/inference/2023-10-02--15-36-33_seg_3d_wafer26_data80/wafer26/affs_190000/seg_img/%d.png' % i, seg[i])"
   ]
  },
  {
   "cell_type": "code",
   "execution_count": 11,
   "metadata": {},
   "outputs": [
    {
     "name": "stdout",
     "output_type": "stream",
     "text": [
      "(125, 1250, 1250)\n",
      "uint8\n",
      "255\n",
      "0\n"
     ]
    }
   ],
   "source": [
    "raw_path = '/braindat/lab/liuxy/Backbones/data/wafer26/wafer.h5'\n",
    "with h5py.File(raw_path, 'r') as f:\n",
    "    raw = f['main'][:]\n",
    "    print(raw.shape)\n",
    "    print(raw.dtype)\n",
    "    print(raw.max())\n",
    "    print(raw.min())"
   ]
  },
  {
   "cell_type": "code",
   "execution_count": 12,
   "metadata": {},
   "outputs": [],
   "source": [
    "# cv2 imwrite gray image\n",
    "os.makedirs('/braindat/lab/chenyd/code_230508/wafer4/inference/2023-10-02--15-36-33_seg_3d_wafer26_data80/wafer26/affs_190000/raw_img', exist_ok=True)\n",
    "for i in range(len(raw)):\n",
    "    cv2.imwrite('/braindat/lab/chenyd/code_230508/wafer4/inference/2023-10-02--15-36-33_seg_3d_wafer26_data80/wafer26/affs_190000/raw_img/%d.png' % i, raw[i])"
   ]
  },
  {
   "cell_type": "code",
   "execution_count": null,
   "metadata": {},
   "outputs": [],
   "source": []
  }
 ],
 "metadata": {
  "kernelspec": {
   "display_name": "base",
   "language": "python",
   "name": "python3"
  },
  "language_info": {
   "codemirror_mode": {
    "name": "ipython",
    "version": 3
   },
   "file_extension": ".py",
   "mimetype": "text/x-python",
   "name": "python",
   "nbconvert_exporter": "python",
   "pygments_lexer": "ipython3",
   "version": "3.7.13"
  },
  "orig_nbformat": 4
 },
 "nbformat": 4,
 "nbformat_minor": 2
}
